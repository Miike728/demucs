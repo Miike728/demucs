{
  "nbformat": 4,
  "nbformat_minor": 0,
  "metadata": {
    "colab": {
      "name": "DEMUCS.ipynb",
      "provenance": [],
      "collapsed_sections": [],
      "authorship_tag": "ABX9TyMOisINOhCFd6Px4cMGnwuc",
      "include_colab_link": true
    },
    "kernelspec": {
      "name": "python3",
      "display_name": "Python 3"
    },
    "accelerator": "GPU"
  },
  "cells": [
    {
      "cell_type": "markdown",
      "metadata": {
        "id": "view-in-github",
        "colab_type": "text"
      },
      "source": [
        "<a href=\"https://colab.research.google.com/github/Miike728/demucs/blob/main/DEMUCS.ipynb\" target=\"_parent\"><img src=\"https://colab.research.google.com/assets/colab-badge.svg\" alt=\"Open In Colab\"/></a>"
      ]
    },
    {
      "cell_type": "markdown",
      "metadata": {
        "id": "T55HHy8MoZoV"
      },
      "source": [
        "Versión adaptada del script \"Demucs\" para Google Colab\r\n"
      ]
    },
    {
      "cell_type": "markdown",
      "metadata": {
        "id": "ESZCV-dpokXL"
      },
      "source": [
        "Fuente: https://github.com/facebookresearch/demucs"
      ]
    },
    {
      "cell_type": "markdown",
      "metadata": {
        "id": "tdhmHsrWjCN0"
      },
      "source": [
        "## **PRIMERO EN EL MENÚ \"ENTORNO DE EJECUCIÓN\"  VE A \"CAMBIAR TIPO DE ENTORNO DE EJECUCIÓN\" SELECCIONA GPU Y GUARDA LOS CAMBIOS**"
      ]
    },
    {
      "cell_type": "markdown",
      "metadata": {
        "id": "H-heAj3JjbZv"
      },
      "source": [
        "### **Ahora conecta el entorno de ejecución arriba a la derecha**"
      ]
    },
    {
      "cell_type": "markdown",
      "metadata": {
        "id": "wSNJAfIQH5iZ"
      },
      "source": [
        "Descargar archivos necesarios, puede tardar hasta 10 minutos, ten paciencia"
      ]
    },
    {
      "cell_type": "code",
      "metadata": {
        "id": "IrE0P56FGy5z"
      },
      "source": [
        "!wget -c https://repo.continuum.io/archive/Anaconda3-5.1.0-Linux-x86_64.sh"
      ],
      "execution_count": null,
      "outputs": []
    },
    {
      "cell_type": "code",
      "metadata": {
        "id": "1uB54UJ2G9Px"
      },
      "source": [
        "!chmod +x Anaconda3-5.1.0-Linux-x86_64.sh"
      ],
      "execution_count": null,
      "outputs": []
    },
    {
      "cell_type": "code",
      "metadata": {
        "id": "ZEXwJXKDG9X0"
      },
      "source": [
        "!bash ./Anaconda3-5.1.0-Linux-x86_64.sh -b -f -p /usr/local"
      ],
      "execution_count": null,
      "outputs": []
    },
    {
      "cell_type": "code",
      "metadata": {
        "id": "b_CQBCHGG9ae"
      },
      "source": [
        "import sys"
      ],
      "execution_count": null,
      "outputs": []
    },
    {
      "cell_type": "code",
      "metadata": {
        "id": "R1B9WeALG9dE"
      },
      "source": [
        "sys.path.append('/usr/local/lib/python3.7/site-packages/')"
      ],
      "execution_count": null,
      "outputs": []
    },
    {
      "cell_type": "code",
      "metadata": {
        "id": "ma419URpG9fn"
      },
      "source": [
        "!git clone https://github.com/facebookresearch/demucs"
      ],
      "execution_count": null,
      "outputs": []
    },
    {
      "cell_type": "code",
      "metadata": {
        "id": "gp4TCZGcHJpB"
      },
      "source": [
        "cd demucs"
      ],
      "execution_count": null,
      "outputs": []
    },
    {
      "cell_type": "markdown",
      "metadata": {
        "id": "UzKrVFlWmda0"
      },
      "source": [
        "En el cuadro de abajo, atento porque a mitad de la descarga te pedirá que confirmes la descarga. Simplemente haz click a la derecha de el texto que será como \"**Proceed ([y]/n)?**\" tú solo escribe una \"**y**\" y dale enter para que continue"
      ]
    },
    {
      "cell_type": "code",
      "metadata": {
        "id": "u0xp7uMKHLbJ"
      },
      "source": [
        "!conda update -n base conda"
      ],
      "execution_count": null,
      "outputs": []
    },
    {
      "cell_type": "code",
      "metadata": {
        "id": "RxHd50HAHLid"
      },
      "source": [
        "!conda env update -f environment-cuda.yml"
      ],
      "execution_count": null,
      "outputs": []
    },
    {
      "cell_type": "code",
      "metadata": {
        "id": "0BY93BKpHLlc"
      },
      "source": [
        "!conda init bash"
      ],
      "execution_count": null,
      "outputs": []
    },
    {
      "cell_type": "code",
      "metadata": {
        "id": "soe-oBDMHRv4"
      },
      "source": [
        "!source activate demucs"
      ],
      "execution_count": null,
      "outputs": []
    },
    {
      "cell_type": "code",
      "metadata": {
        "id": "V2upPHgdHRyl"
      },
      "source": [
        "!eval \"$(command conda 'shell.bash' 'hook' 2> /dev/null)\""
      ],
      "execution_count": null,
      "outputs": []
    },
    {
      "cell_type": "code",
      "metadata": {
        "id": "Krzs20ttHR1V"
      },
      "source": [
        "!pip install torch numpy scipy"
      ],
      "execution_count": null,
      "outputs": []
    },
    {
      "cell_type": "code",
      "metadata": {
        "id": "UzJWJdjMIKU8"
      },
      "source": [
        "!sudo apt-get install ffmpeg"
      ],
      "execution_count": null,
      "outputs": []
    },
    {
      "cell_type": "code",
      "metadata": {
        "id": "t_3MHs6HIVcO"
      },
      "source": [
        "!pip3 install youtube-dl"
      ],
      "execution_count": null,
      "outputs": []
    },
    {
      "cell_type": "code",
      "metadata": {
        "id": "dlnyf_GOIgRj"
      },
      "source": [
        "!touch youtube_mp3.py"
      ],
      "execution_count": null,
      "outputs": []
    },
    {
      "cell_type": "code",
      "metadata": {
        "id": "SCDBNbf7K90m"
      },
      "source": [
        "!sudo apt install nano"
      ],
      "execution_count": null,
      "outputs": []
    },
    {
      "cell_type": "code",
      "metadata": {
        "id": "UUPI-dphK9xk"
      },
      "source": [
        "!git clone https://github.com/Miike728/demucs-download-mp3"
      ],
      "execution_count": null,
      "outputs": []
    },
    {
      "cell_type": "code",
      "metadata": {
        "id": "2T5plJDRK9us"
      },
      "source": [
        "import os\r\n",
        "import shutil\r\n",
        "\r\n",
        "# Move file\r\n",
        "shutil.move('/content/demucs/demucs-download-mp3/youtube_mp3.py', '/content/demucs/youtube_mp3.py')"
      ],
      "execution_count": null,
      "outputs": []
    },
    {
      "cell_type": "code",
      "metadata": {
        "id": "WpwSOn_OSgdd"
      },
      "source": [
        "!pip install youtube-mp3-downloader"
      ],
      "execution_count": null,
      "outputs": []
    },
    {
      "cell_type": "code",
      "metadata": {
        "id": "SJqi_1vThQb0"
      },
      "source": [
        "Actualizar drivers de GPU"
      ],
      "execution_count": null,
      "outputs": []
    },
    {
      "cell_type": "code",
      "metadata": {
        "id": "FHW92q0ihJsz"
      },
      "source": [
        "!pip install torch==1.5.0+cu101 torchvision==0.6.0+cu101 -f https://download.pytorch.org/whl/torch_stable.html"
      ],
      "execution_count": null,
      "outputs": []
    },
    {
      "cell_type": "markdown",
      "metadata": {
        "id": "G20ZcawyYDbg"
      },
      "source": [
        "Ahora hay que editar \"URL\" por la url del video abajo (eliminar también las \" \")"
      ]
    },
    {
      "cell_type": "code",
      "metadata": {
        "id": "BJbJkCnJVpVC"
      },
      "source": [
        "!youtube-dl \"URL\" -x --audio-format mp3 --output \"song.%(ext)s\""
      ],
      "execution_count": null,
      "outputs": []
    },
    {
      "cell_type": "markdown",
      "metadata": {
        "id": "1z4lTlc-hq6o"
      },
      "source": [
        "Ahora hay que separar las pistas de la canción, debería ir bastante rápido porque las GPUs de Google son muy potentes"
      ]
    },
    {
      "cell_type": "code",
      "metadata": {
        "id": "li_UcHJ1HWyK"
      },
      "source": [
        "!python3 -m demucs.separate --dl -n demucs -d cuda song.mp3"
      ],
      "execution_count": null,
      "outputs": []
    },
    {
      "cell_type": "markdown",
      "metadata": {
        "id": "9AG1PURCnFnu"
      },
      "source": [
        "Comprimimos las pistas extraídas en un archivo **.zip**"
      ]
    },
    {
      "cell_type": "code",
      "metadata": {
        "id": "sq6Oc6sinCGm"
      },
      "source": [
        "import os\r\n",
        "import zipfile\r\n",
        " \r\n",
        "fantasy_zip = zipfile.ZipFile('/content/demucs/separated/demucs/song/song.zip', 'w')\r\n",
        " \r\n",
        "for folder, subfolders, files in os.walk('/content/demucs/separated/demucs/song'):\r\n",
        " \r\n",
        "    for file in files:\r\n",
        "        if file.endswith('.wav'):\r\n",
        "            fantasy_zip.write(os.path.join(folder, file), os.path.relpath(os.path.join(folder,file), '/content/demucs/separated/demucs/song'), compress_type = zipfile.ZIP_DEFLATED)\r\n",
        " \r\n",
        "fantasy_zip.close()\r\n",
        "print(\"Archivo comprimido correctamente\")"
      ],
      "execution_count": null,
      "outputs": []
    },
    {
      "cell_type": "markdown",
      "metadata": {
        "id": "R2NEXsRgnOkv"
      },
      "source": [
        "Y por último descargamos el archivo **.zip** con todas las pistas extraídas, tardará un poco en cargar"
      ]
    },
    {
      "cell_type": "code",
      "metadata": {
        "id": "F7AQ1JY_nW2K"
      },
      "source": [
        "from google.colab import files\r\n",
        "files.download('/content/demucs/separated/demucs/song/song.zip')"
      ],
      "execution_count": null,
      "outputs": []
    }
  ]
}