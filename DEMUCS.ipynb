{
  "nbformat": 4,
  "nbformat_minor": 0,
  "metadata": {
    "colab": {
      "name": "DEMUCS.ipynb",
      "provenance": [],
      "authorship_tag": "ABX9TyPsdlx36x2BslVHnJs7KuCM",
      "include_colab_link": true
    },
    "kernelspec": {
      "name": "python3",
      "display_name": "Python 3"
    },
    "accelerator": "GPU"
  },
  "cells": [
    {
      "cell_type": "markdown",
      "metadata": {
        "id": "view-in-github",
        "colab_type": "text"
      },
      "source": [
        "<a href=\"https://colab.research.google.com/github/Miike728/demucs/blob/main/DEMUCS.ipynb\" target=\"_parent\"><img src=\"https://colab.research.google.com/assets/colab-badge.svg\" alt=\"Open In Colab\"/></a>"
      ]
    },
    {
      "cell_type": "markdown",
      "metadata": {
        "id": "wSNJAfIQH5iZ"
      },
      "source": [
        "Descargar archivos necesarios"
      ]
    },
    {
      "cell_type": "code",
      "metadata": {
        "id": "IrE0P56FGy5z"
      },
      "source": [
        "!wget -c https://repo.continuum.io/archive/Anaconda3-5.1.0-Linux-x86_64.sh"
      ],
      "execution_count": null,
      "outputs": []
    },
    {
      "cell_type": "code",
      "metadata": {
        "id": "1uB54UJ2G9Px"
      },
      "source": [
        "!chmod +x Anaconda3-5.1.0-Linux-x86_64.sh"
      ],
      "execution_count": null,
      "outputs": []
    },
    {
      "cell_type": "code",
      "metadata": {
        "id": "ZEXwJXKDG9X0"
      },
      "source": [
        "!bash ./Anaconda3-5.1.0-Linux-x86_64.sh -b -f -p /usr/local"
      ],
      "execution_count": null,
      "outputs": []
    },
    {
      "cell_type": "code",
      "metadata": {
        "id": "b_CQBCHGG9ae"
      },
      "source": [
        "import sys"
      ],
      "execution_count": null,
      "outputs": []
    },
    {
      "cell_type": "code",
      "metadata": {
        "id": "R1B9WeALG9dE"
      },
      "source": [
        "sys.path.append('/usr/local/lib/python3.7/site-packages/')"
      ],
      "execution_count": null,
      "outputs": []
    },
    {
      "cell_type": "code",
      "metadata": {
        "id": "ma419URpG9fn"
      },
      "source": [
        "!git clone https://github.com/facebookresearch/demucs"
      ],
      "execution_count": null,
      "outputs": []
    },
    {
      "cell_type": "code",
      "metadata": {
        "id": "gp4TCZGcHJpB"
      },
      "source": [
        "cd demucs"
      ],
      "execution_count": null,
      "outputs": []
    },
    {
      "cell_type": "code",
      "metadata": {
        "id": "u0xp7uMKHLbJ"
      },
      "source": [
        "!conda update -n base conda"
      ],
      "execution_count": null,
      "outputs": []
    },
    {
      "cell_type": "code",
      "metadata": {
        "id": "RxHd50HAHLid"
      },
      "source": [
        "!conda env update -f environment-cuda.yml"
      ],
      "execution_count": null,
      "outputs": []
    },
    {
      "cell_type": "code",
      "metadata": {
        "id": "0BY93BKpHLlc"
      },
      "source": [
        "!conda init bash"
      ],
      "execution_count": null,
      "outputs": []
    },
    {
      "cell_type": "code",
      "metadata": {
        "id": "soe-oBDMHRv4"
      },
      "source": [
        "!source activate demucs"
      ],
      "execution_count": null,
      "outputs": []
    },
    {
      "cell_type": "code",
      "metadata": {
        "id": "V2upPHgdHRyl"
      },
      "source": [
        "!eval \"$(command conda 'shell.bash' 'hook' 2> /dev/null)\""
      ],
      "execution_count": null,
      "outputs": []
    },
    {
      "cell_type": "code",
      "metadata": {
        "id": "Krzs20ttHR1V"
      },
      "source": [
        "!pip install torch numpy scipy"
      ],
      "execution_count": null,
      "outputs": []
    },
    {
      "cell_type": "code",
      "metadata": {
        "id": "UzJWJdjMIKU8"
      },
      "source": [
        "!sudo apt-get install ffmpeg"
      ],
      "execution_count": null,
      "outputs": []
    },
    {
      "cell_type": "code",
      "metadata": {
        "id": "t_3MHs6HIVcO"
      },
      "source": [
        "!pip3 install youtube-dl"
      ],
      "execution_count": null,
      "outputs": []
    },
    {
      "cell_type": "code",
      "metadata": {
        "id": "dlnyf_GOIgRj"
      },
      "source": [
        "!touch youtube_mp3.py"
      ],
      "execution_count": null,
      "outputs": []
    },
    {
      "cell_type": "code",
      "metadata": {
        "id": "SCDBNbf7K90m"
      },
      "source": [
        "!sudo apt install nano"
      ],
      "execution_count": null,
      "outputs": []
    },
    {
      "cell_type": "code",
      "metadata": {
        "id": "UUPI-dphK9xk"
      },
      "source": [
        "!git clone https://github.com/Miike728/demucs-download-mp3"
      ],
      "execution_count": null,
      "outputs": []
    },
    {
      "cell_type": "code",
      "metadata": {
        "id": "2T5plJDRK9us"
      },
      "source": [
        "import os\r\n",
        "import shutil\r\n",
        "\r\n",
        "# Move file\r\n",
        "shutil.move('/content/demucs/demucs-download-mp3/youtube_mp3.py', '/content/demucs/youtube_mp3.py')"
      ],
      "execution_count": null,
      "outputs": []
    },
    {
      "cell_type": "code",
      "metadata": {
        "id": "WpwSOn_OSgdd"
      },
      "source": [
        "!pip install youtube-mp3-downloader"
      ],
      "execution_count": null,
      "outputs": []
    },
    {
      "cell_type": "code",
      "metadata": {
        "id": "SJqi_1vThQb0"
      },
      "source": [
        "Actualizar drivers de GPU"
      ],
      "execution_count": null,
      "outputs": []
    },
    {
      "cell_type": "code",
      "metadata": {
        "id": "FHW92q0ihJsz"
      },
      "source": [
        "!pip install torch==1.5.0+cu101 torchvision==0.6.0+cu101 -f https://download.pytorch.org/whl/torch_stable.html"
      ],
      "execution_count": null,
      "outputs": []
    },
    {
      "cell_type": "markdown",
      "metadata": {
        "id": "G20ZcawyYDbg"
      },
      "source": [
        "Ahora hay que editar \"URL\" por la url del video abajo (eliminar también las \" \")"
      ]
    },
    {
      "cell_type": "code",
      "metadata": {
        "id": "BJbJkCnJVpVC"
      },
      "source": [
        "!youtube-dl \"URL\" -x --audio-format mp3 --output \"song.%(ext)s\""
      ],
      "execution_count": null,
      "outputs": []
    },
    {
      "cell_type": "markdown",
      "metadata": {
        "id": "1z4lTlc-hq6o"
      },
      "source": [
        "Y por último separar las pistas de la canción"
      ]
    },
    {
      "cell_type": "code",
      "metadata": {
        "id": "li_UcHJ1HWyK"
      },
      "source": [
        "!python3 -m demucs.separate --dl -n demucs -d cuda song.mp3"
      ],
      "execution_count": null,
      "outputs": []
    },
    {
      "cell_type": "markdown",
      "metadata": {
        "id": "fFSYu5kThuw7"
      },
      "source": [
        "Una vez esto haya acabado, deberías tener la canción separada en /content/demucs/separated/demucs/song"
      ]
    }
  ]
}